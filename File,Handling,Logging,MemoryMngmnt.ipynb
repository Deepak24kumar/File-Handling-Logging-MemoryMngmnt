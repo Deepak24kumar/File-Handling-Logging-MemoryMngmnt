{
  "nbformat": 4,
  "nbformat_minor": 0,
  "metadata": {
    "colab": {
      "provenance": []
    },
    "kernelspec": {
      "name": "python3",
      "display_name": "Python 3"
    },
    "language_info": {
      "name": "python"
    }
  },
  "cells": [
    {
      "cell_type": "markdown",
      "source": [
        "Theory Questions\n"
      ],
      "metadata": {
        "id": "eD5SEBWMqOWm"
      }
    },
    {
      "cell_type": "markdown",
      "source": [
        "1. What is the difference between interpreted and compiled languages?\n",
        "\n",
        "Ans 1.\n",
        "- Interpreted languages (like Python): Code is executed line-by-line by an interpreter. Errors are shown at runtime.\n",
        "\n",
        "- Compiled languages (like C++): Code is first translated into machine code by a compiler, then executed. Errors are caught before execution."
      ],
      "metadata": {
        "id": "bJM4S3rbqVLi"
      }
    },
    {
      "cell_type": "markdown",
      "source": [
        "2. What is exception handling in Python?\n",
        "\n",
        "Ans 2. Exception handling is a way to manage errors during runtime. It prevents the program from crashing and allows the developer to respond to unexpected issues gracefully."
      ],
      "metadata": {
        "id": "bOn_n6yUqyRM"
      }
    },
    {
      "cell_type": "code",
      "source": [
        "try:\n",
        "    result = 10 / 0\n",
        "except ZeroDivisionError:\n",
        "    print(\"Cannot divide by zero\")"
      ],
      "metadata": {
        "id": "QJ1HmgTWq9vZ"
      },
      "execution_count": null,
      "outputs": []
    },
    {
      "cell_type": "markdown",
      "source": [
        "3. What is the purpose of the finally block in exception handling?\n",
        "\n",
        "Ans 3. The finally block contains code that runs regardless of whether an exception was raised or not. It's typically used for cleanup tasks like closing files or releasing resources."
      ],
      "metadata": {
        "id": "qWqlfJYJrAVk"
      }
    },
    {
      "cell_type": "markdown",
      "source": [
        "4. What is logging in Python?\n",
        "\n",
        "Ans 4. Logging is a method of recording events or messages during program execution. It helps in tracking errors, debugging, and understanding program flow."
      ],
      "metadata": {
        "id": "_J2_4UdarPj4"
      }
    },
    {
      "cell_type": "code",
      "source": [
        "import logging\n",
        "logging.warning(\"This is a warning message\")"
      ],
      "metadata": {
        "id": "1bxtD8fQrdDA"
      },
      "execution_count": null,
      "outputs": []
    },
    {
      "cell_type": "markdown",
      "source": [
        "5. What is the significance of the __del__ method in Python?\n",
        "\n",
        "Ans 5. __del__ is a special method called when an object is about to be destroyed. It's used to clean up resources like closing files or database connections."
      ],
      "metadata": {
        "id": "9am6pRRord7T"
      }
    },
    {
      "cell_type": "code",
      "source": [
        "class MyClass:\n",
        "    def __del__(self):\n",
        "        print(\"Object is being destroyed\")"
      ],
      "metadata": {
        "id": "msPuKMGDrmDK"
      },
      "execution_count": null,
      "outputs": []
    },
    {
      "cell_type": "markdown",
      "source": [
        "6. What is the difference between import and from ... import in Python?\n",
        "\n",
        "Ans 6.\n",
        "- import module: Imports the entire module\n",
        "\n",
        "- from module import function: Imports specific parts from a module"
      ],
      "metadata": {
        "id": "C37G7kZ6roXg"
      }
    },
    {
      "cell_type": "code",
      "source": [
        "import math\n",
        "print(math.sqrt(16))\n",
        "\n",
        "from math import sqrt\n",
        "print(sqrt(16))"
      ],
      "metadata": {
        "id": "nosxLRyKrzrT"
      },
      "execution_count": null,
      "outputs": []
    },
    {
      "cell_type": "markdown",
      "source": [
        "7. How can you handle multiple exceptions in Python?\n",
        "\n",
        "Ans 7. You can use multiple except blocks or combine exceptions in a single block."
      ],
      "metadata": {
        "id": "gdR1GG2pr0wE"
      }
    },
    {
      "cell_type": "code",
      "source": [
        "try:\n",
        "    x = int(\"abc\")\n",
        "except (ValueError, TypeError) as e:\n",
        "    print(\"Error:\", e)"
      ],
      "metadata": {
        "id": "T8y6Kaqpr9uE"
      },
      "execution_count": null,
      "outputs": []
    },
    {
      "cell_type": "markdown",
      "source": [
        "8. What is the purpose of the with statement when handling files in Python?\n",
        "\n",
        "Ans 8. The with statement simplifies file handling by automatically closing the file after the block ends, even if exceptions occur."
      ],
      "metadata": {
        "id": "Wfmt2o3-sAhm"
      }
    },
    {
      "cell_type": "code",
      "source": [
        "with open('file.txt', 'r') as f:\n",
        "    content = f.read()"
      ],
      "metadata": {
        "id": "IYk6Zm76sJEU"
      },
      "execution_count": null,
      "outputs": []
    },
    {
      "cell_type": "markdown",
      "source": [
        "9. What is the difference between multithreading and multiprocessing?\n",
        "\n",
        "Ans 9.\n",
        "- Multithreading: Multiple threads within a single process; best for I/O-bound tasks.\n",
        "\n",
        "- Multiprocessing: Runs multiple processes; ideal for CPU-bound tasks.\n",
        "\n"
      ],
      "metadata": {
        "id": "YAIwuAkysLD8"
      }
    },
    {
      "cell_type": "markdown",
      "source": [
        "10. What are the advantages of using logging in a program?\n",
        "\n",
        "Ans 10.\n",
        "- Tracks errors and bugs\n",
        "- Helps with debugging\n",
        "- Can save logs to files for review\n",
        "- Better than using print statements for serious applications"
      ],
      "metadata": {
        "id": "Zcco5Y4gsYeT"
      }
    },
    {
      "cell_type": "markdown",
      "source": [
        "11. What is memory management in Python?\n",
        "\n",
        "Ans 11. Memory management in Python is automatic. It includes:\n",
        "\n",
        "- Automatic allocation and deallocation\n",
        "\n",
        "- Garbage collection\n",
        "\n",
        "- Reference counting"
      ],
      "metadata": {
        "id": "GaZ7dpIDsm72"
      }
    },
    {
      "cell_type": "markdown",
      "source": [
        "12. What are the basic steps involved in exception handling in Python?\n",
        "\n",
        "Ans 12.\n",
        "1. Wrap the risky code in a try block.\n",
        "\n",
        "2. Handle errors using except.\n",
        "\n",
        "3. Use finally for cleanup.\n",
        "\n",
        "4. Optionally use else if no exception occurs."
      ],
      "metadata": {
        "id": "rFuBHK0Lsz0g"
      }
    },
    {
      "cell_type": "markdown",
      "source": [
        "13. Why is memory management important in Python?\n",
        "\n",
        "Ans 13. Proper memory management:\n",
        "\n",
        "- Prevents memory leaks\n",
        "\n",
        "- Optimizes performance\n",
        "\n",
        "- Ensures efficient use of system resources"
      ],
      "metadata": {
        "id": "3B31hoehs_Dq"
      }
    },
    {
      "cell_type": "markdown",
      "source": [
        "14. What is the role of try and except in exception handling?\n",
        "\n",
        "Ans 14.\n",
        "\n",
        "try: Wraps code that might cause an error\n",
        "\n",
        "except: Handles the error if it occurs"
      ],
      "metadata": {
        "id": "vKHh8-LKtKqH"
      }
    },
    {
      "cell_type": "code",
      "source": [
        "try:\n",
        "    x = 1 / 0\n",
        "except ZeroDivisionError:\n",
        "    print(\"Error handled\")"
      ],
      "metadata": {
        "id": "qQNrVb3htYaI"
      },
      "execution_count": null,
      "outputs": []
    },
    {
      "cell_type": "markdown",
      "source": [
        "15. How does Python's garbage collection system work?\n",
        "\n",
        "Ans 15. Python uses:\n",
        "\n",
        "Reference counting: Tracks the number of references to objects\n",
        "\n",
        "Garbage collector: Removes unreachable objects (circular references)"
      ],
      "metadata": {
        "id": "pyL10Kx9te6q"
      }
    },
    {
      "cell_type": "markdown",
      "source": [
        "16. What is the purpose of the else block in exception handling?\n",
        "\n",
        "Ans 16. The else block runs only if no exceptions are raised in the try block. It helps separate successful logic from error handling."
      ],
      "metadata": {
        "id": "DE-Olv5XtmhE"
      }
    },
    {
      "cell_type": "code",
      "source": [
        "try:\n",
        "    print(\"Try block\")\n",
        "except:\n",
        "    print(\"Exception\")\n",
        "else:\n",
        "    print(\"No exception occurred\")"
      ],
      "metadata": {
        "id": "cFDsKgfvtwuk"
      },
      "execution_count": null,
      "outputs": []
    },
    {
      "cell_type": "markdown",
      "source": [
        "17. What are the common logging levels in Python?\n",
        "\n",
        "Ans 17.\n",
        "\n",
        "DEBUG: Detailed information for debugging\n",
        "\n",
        "INFO: General information\n",
        "\n",
        "WARNING: Something unexpected, but not an error\n",
        "\n",
        "ERROR: A serious issue\n",
        "\n",
        "CRITICAL: Very severe error"
      ],
      "metadata": {
        "id": "BXb9_pFTt0Mh"
      }
    },
    {
      "cell_type": "markdown",
      "source": [
        "18. What is the difference between os.fork() and multiprocessing in Python?\n",
        "\n",
        "Ans 18.\n",
        "\n",
        "os.fork() is Unix-only and creates a child process by duplicating the parent.\n",
        "\n",
        "multiprocessing is cross-platform and provides a higher-level API for creating processes."
      ],
      "metadata": {
        "id": "L3lcpCnUt9b8"
      }
    },
    {
      "cell_type": "markdown",
      "source": [
        "19.  What is the importance of closing a file in Python?\n",
        "\n",
        "Ans 19. Closing a file:\n",
        "\n",
        "Frees up system resources\n",
        "\n",
        "Ensures data is saved properly\n",
        "\n",
        "Prevents file corruption"
      ],
      "metadata": {
        "id": "ne_1u1cyuM2q"
      }
    },
    {
      "cell_type": "markdown",
      "source": [
        "20. What is the difference between file.read() and file.readline() in Python?\n",
        "\n",
        "Ans 20.\n",
        "\n",
        "read(): Reads the entire file at once.\n",
        "\n",
        "readline(): Reads one line at a time."
      ],
      "metadata": {
        "id": "nI3574jZuU1w"
      }
    },
    {
      "cell_type": "markdown",
      "source": [
        "21. What is the logging module in Python used for?\n",
        "\n",
        "Ans 21. The logging module allows developers to:\n",
        "\n",
        "Track events in an application\n",
        "\n",
        "Record logs at different levels\n",
        "\n",
        "Output logs to console or files"
      ],
      "metadata": {
        "id": "TaSL7cuDuhd3"
      }
    },
    {
      "cell_type": "markdown",
      "source": [
        "22.  What is the os module in Python used for in file handling?\n",
        "\n",
        "Ans 22. The os module provides tools to interact with the file system, such as:\n",
        "\n",
        "Creating/removing directories\n",
        "\n",
        "Checking file paths\n",
        "\n",
        "Renaming files"
      ],
      "metadata": {
        "id": "YnY-XbWUupWR"
      }
    },
    {
      "cell_type": "code",
      "source": [
        "import os\n",
        "print(os.listdir('.'))"
      ],
      "metadata": {
        "id": "C-Bkgt5au1T-"
      },
      "execution_count": null,
      "outputs": []
    },
    {
      "cell_type": "markdown",
      "source": [
        "23. What are the challenges associated with memory management in Python?\n",
        "\n",
        "Ans 23.\n",
        "\n",
        "Handling circular references\n",
        "\n",
        "Managing memory for large data structures\n",
        "\n",
        "Avoiding memory leaks in long-running programs"
      ],
      "metadata": {
        "id": "Sk3edLPdu2SY"
      }
    },
    {
      "cell_type": "markdown",
      "source": [
        "24. How do you raise an exception manually in Python?\n",
        "\n",
        "Ans 24. You can use the raise statement to trigger an exception:"
      ],
      "metadata": {
        "id": "ewF_90EFu_8C"
      }
    },
    {
      "cell_type": "code",
      "source": [
        "raise ValueError(\"This is a custom error\")"
      ],
      "metadata": {
        "id": "iGW3__vLvIPy"
      },
      "execution_count": null,
      "outputs": []
    },
    {
      "cell_type": "markdown",
      "source": [
        "25. Why is it important to use multithreading in certain applications?\n",
        "\n",
        "Ans 25. Multithreading is useful for:\n",
        "\n",
        "Running tasks in parallel (e.g., downloading files)\n",
        "\n",
        "Improving performance in I/O-bound operations\n",
        "\n",
        "Keeping applications responsive (e.g., GUI apps)"
      ],
      "metadata": {
        "id": "gJAK_OayvKkL"
      }
    },
    {
      "cell_type": "markdown",
      "source": [
        "Practical Questions"
      ],
      "metadata": {
        "id": "UWGVHLAMvV38"
      }
    },
    {
      "cell_type": "markdown",
      "source": [
        "1. How can you open a file for writing in Python and write a string to it?"
      ],
      "metadata": {
        "id": "qdJRiwuovYg0"
      }
    },
    {
      "cell_type": "code",
      "source": [
        "with open(\"example.txt\", \"w\") as file:\n",
        "    file.write(\"Hello, this is a sample text.\")"
      ],
      "metadata": {
        "id": "EyZQdZTCv26c"
      },
      "execution_count": null,
      "outputs": []
    },
    {
      "cell_type": "markdown",
      "source": [
        "2. Write a Python program to read the contents of a file and print each line?"
      ],
      "metadata": {
        "id": "vVJ5vrR6v6Ew"
      }
    },
    {
      "cell_type": "code",
      "source": [
        "with open(\"example.txt\", \"r\") as file:\n",
        "    for line in file:\n",
        "        print(line.strip())"
      ],
      "metadata": {
        "id": "D6nt6s2sv-8Q"
      },
      "execution_count": null,
      "outputs": []
    },
    {
      "cell_type": "markdown",
      "source": [
        "3.  How would you handle a case where the file doesn't exist while trying to open it for reading?"
      ],
      "metadata": {
        "id": "IBve0qzZwB2B"
      }
    },
    {
      "cell_type": "code",
      "source": [
        "try:\n",
        "    with open(\"nonexistent.txt\", \"r\") as file:\n",
        "        content = file.read()\n",
        "except FileNotFoundError:\n",
        "    print(\"The file was not found.\")"
      ],
      "metadata": {
        "id": "pn3Bv8KVwHTK"
      },
      "execution_count": null,
      "outputs": []
    },
    {
      "cell_type": "markdown",
      "source": [
        "4. Write a Python script that reads from one file and writes its content to another file?"
      ],
      "metadata": {
        "id": "hG3YTy4_wKL4"
      }
    },
    {
      "cell_type": "code",
      "source": [
        "with open(\"source.txt\", \"r\") as source, open(\"destination.txt\", \"w\") as dest:\n",
        "    for line in source:\n",
        "        dest.write(line)"
      ],
      "metadata": {
        "id": "oNhN4NpgwOEY"
      },
      "execution_count": null,
      "outputs": []
    },
    {
      "cell_type": "markdown",
      "source": [
        "5. How would you catch and handle division by zero error in Python?"
      ],
      "metadata": {
        "id": "5iN7YZdQwRHb"
      }
    },
    {
      "cell_type": "code",
      "source": [
        "try:\n",
        "    result = 10 / 0\n",
        "except ZeroDivisionError:\n",
        "    print(\"You cannot divide by zero.\")"
      ],
      "metadata": {
        "id": "ERmjQIw4wVeK"
      },
      "execution_count": null,
      "outputs": []
    },
    {
      "cell_type": "markdown",
      "source": [
        "6.  Write a Python program that logs an error message to a log file when a division by zero exception occurs?"
      ],
      "metadata": {
        "id": "tQRIabdxwYdN"
      }
    },
    {
      "cell_type": "code",
      "source": [
        "import logging\n",
        "\n",
        "logging.basicConfig(filename=\"app.log\", level=logging.ERROR)\n",
        "\n",
        "try:\n",
        "    result = 5 / 0\n",
        "except ZeroDivisionError as e:\n",
        "    logging.error(\"Division by zero occurred: %s\", e)"
      ],
      "metadata": {
        "id": "z9B1Me1zwcEh"
      },
      "execution_count": null,
      "outputs": []
    },
    {
      "cell_type": "markdown",
      "source": [
        "7. How do you log information at different levels (INFO, ERROR, WARNING) in Python using the logging module?"
      ],
      "metadata": {
        "id": "gZZAndffwfAM"
      }
    },
    {
      "cell_type": "code",
      "source": [
        "import logging\n",
        "\n",
        "logging.basicConfig(level=logging.DEBUG)\n",
        "\n",
        "logging.info(\"This is an info message\")\n",
        "logging.warning(\"This is a warning\")\n",
        "logging.error(\"This is an error\")\n"
      ],
      "metadata": {
        "id": "UjjXiZk_wi8K"
      },
      "execution_count": null,
      "outputs": []
    },
    {
      "cell_type": "markdown",
      "source": [
        "8. Write a program to handle a file opening error using exception handling?"
      ],
      "metadata": {
        "id": "xDYbMuHVwltL"
      }
    },
    {
      "cell_type": "code",
      "source": [
        "try:\n",
        "    with open(\"file.txt\", \"r\") as f:\n",
        "        print(f.read())\n",
        "except FileNotFoundError:\n",
        "    print(\"File does not exist.\")"
      ],
      "metadata": {
        "id": "YB4KL0LVwqem"
      },
      "execution_count": null,
      "outputs": []
    },
    {
      "cell_type": "markdown",
      "source": [
        "9. How can you read a file line by line and store its content in a list in Python?\n"
      ],
      "metadata": {
        "id": "Pze6xhULws8O"
      }
    },
    {
      "cell_type": "code",
      "source": [
        "with open(\"data.txt\", \"r\") as file:\n",
        "    lines = [line.strip() for line in file]"
      ],
      "metadata": {
        "id": "IymS411Ywwjg"
      },
      "execution_count": null,
      "outputs": []
    },
    {
      "cell_type": "markdown",
      "source": [
        "10. How can you append data to an existing file in Python?"
      ],
      "metadata": {
        "id": "MYbG_G87wzfo"
      }
    },
    {
      "cell_type": "code",
      "source": [
        "with open(\"log.txt\", \"a\") as file:\n",
        "    file.write(\"New entry added.\\n\")"
      ],
      "metadata": {
        "id": "NC_qbw1hw6RC"
      },
      "execution_count": null,
      "outputs": []
    },
    {
      "cell_type": "markdown",
      "source": [
        "11. Write a Python program that uses a try-except block to handle an error when attempting to access a\n",
        "dictionary key that doesn't exist?"
      ],
      "metadata": {
        "id": "_0ZVdsEjw-WT"
      }
    },
    {
      "cell_type": "code",
      "source": [
        "data = {\"name\": \"Alice\"}\n",
        "try:\n",
        "    print(data[\"age\"])\n",
        "except KeyError:\n",
        "    print(\"Key not found in the dictionary.\")"
      ],
      "metadata": {
        "id": "f42SgwE7xCTV"
      },
      "execution_count": null,
      "outputs": []
    },
    {
      "cell_type": "markdown",
      "source": [
        "12. Write a program that demonstrates using multiple except blocks to handle different types of exceptions?"
      ],
      "metadata": {
        "id": "mlZVp5AUxFuO"
      }
    },
    {
      "cell_type": "code",
      "source": [
        "try:\n",
        "    x = int(\"abc\")\n",
        "    y = 10 / 0\n",
        "except ValueError:\n",
        "    print(\"Invalid conversion to integer.\")\n",
        "except ZeroDivisionError:\n",
        "    print(\"Cannot divide by zero.\")"
      ],
      "metadata": {
        "id": "r2MX6D-GxJ-s"
      },
      "execution_count": null,
      "outputs": []
    },
    {
      "cell_type": "markdown",
      "source": [
        "13.  How would you check if a file exists before attempting to read it in Python?"
      ],
      "metadata": {
        "id": "KFUoVk8uxMvq"
      }
    },
    {
      "cell_type": "code",
      "source": [
        "import os\n",
        "\n",
        "if os.path.exists(\"file.txt\"):\n",
        "    with open(\"file.txt\", \"r\") as file:\n",
        "        print(file.read())\n",
        "else:\n",
        "    print(\"File does not exist.\")"
      ],
      "metadata": {
        "id": "4PCU02tKxTwd"
      },
      "execution_count": null,
      "outputs": []
    },
    {
      "cell_type": "markdown",
      "source": [
        "14. Write a program that uses the logging module to log both informational and error messages?"
      ],
      "metadata": {
        "id": "yTFz7WFjxb9y"
      }
    },
    {
      "cell_type": "code",
      "source": [
        "import logging\n",
        "\n",
        "logging.basicConfig(filename=\"app.log\", level=logging.INFO)\n",
        "\n",
        "logging.info(\"Program started\")\n",
        "try:\n",
        "    x = 1 / 0\n",
        "except ZeroDivisionError:\n",
        "    logging.error(\"Division by zero error occurred\")"
      ],
      "metadata": {
        "id": "Q6IbzPZExjz5"
      },
      "execution_count": null,
      "outputs": []
    },
    {
      "cell_type": "markdown",
      "source": [
        "15. Write a Python program that prints the content of a file and handles the case when the file is empty?"
      ],
      "metadata": {
        "id": "QXOLad8pxm-Z"
      }
    },
    {
      "cell_type": "code",
      "source": [
        "with open(\"sample.txt\", \"r\") as file:\n",
        "    content = file.read()\n",
        "    if content:\n",
        "        print(content)\n",
        "    else:\n",
        "        print(\"The file is empty.\")"
      ],
      "metadata": {
        "id": "cVMAhV03xshU"
      },
      "execution_count": null,
      "outputs": []
    },
    {
      "cell_type": "markdown",
      "source": [
        "16. Demonstrate how to use memory profiling to check the memory usage of a small program?"
      ],
      "metadata": {
        "id": "6BiSop-Axu4p"
      }
    },
    {
      "cell_type": "code",
      "source": [
        "from memory_profiler import profile\n",
        "\n",
        "@profile\n",
        "def calculate():\n",
        "    nums = [i * 2 for i in range(10000)]\n",
        "    return sum(nums)\n",
        "\n",
        "calculate()"
      ],
      "metadata": {
        "id": "EZsjEEd3xyVd"
      },
      "execution_count": null,
      "outputs": []
    },
    {
      "cell_type": "markdown",
      "source": [
        "17. Write a Python program to create and write a list of numbers to a file, one number per line?"
      ],
      "metadata": {
        "id": "r_F_HIm2x1V8"
      }
    },
    {
      "cell_type": "code",
      "source": [
        "numbers = [1, 2, 3, 4, 5]\n",
        "with open(\"numbers.txt\", \"w\") as file:\n",
        "    for num in numbers:\n",
        "        file.write(str(num) + \"\\n\")"
      ],
      "metadata": {
        "id": "MMUYd30Ox5Nt"
      },
      "execution_count": null,
      "outputs": []
    },
    {
      "cell_type": "markdown",
      "source": [
        "18. How would you implement a basic logging setup that logs to a file with rotation after 1MB?"
      ],
      "metadata": {
        "id": "RG8jVPXXx8HB"
      }
    },
    {
      "cell_type": "code",
      "source": [
        "import logging\n",
        "from logging.handlers import RotatingFileHandler\n",
        "\n",
        "handler = RotatingFileHandler(\"rotating.log\", maxBytes=1048576, backupCount=3)\n",
        "logging.basicConfig(handlers=[handler], level=logging.INFO)\n",
        "\n",
        "logging.info(\"Logging with rotation enabled.\")"
      ],
      "metadata": {
        "id": "fwN_CKMnx_q9"
      },
      "execution_count": null,
      "outputs": []
    },
    {
      "cell_type": "markdown",
      "source": [
        "19. Write a program that handles both IndexError and KeyError using a try-except block?"
      ],
      "metadata": {
        "id": "lmo7AG5tyCSB"
      }
    },
    {
      "cell_type": "code",
      "source": [
        "data = {\"name\": \"Bob\"}\n",
        "items = [1, 2, 3]\n",
        "\n",
        "try:\n",
        "    print(items[5])\n",
        "    print(data[\"age\"])\n",
        "except IndexError:\n",
        "    print(\"List index out of range.\")\n",
        "except KeyError:\n",
        "    print(\"Key not found in dictionary.\")"
      ],
      "metadata": {
        "id": "VWagc-V9yHOD"
      },
      "execution_count": null,
      "outputs": []
    },
    {
      "cell_type": "markdown",
      "source": [
        "20. How would you open a file and read its contents using a context manager in Python?"
      ],
      "metadata": {
        "id": "y0UDRjNeyK4l"
      }
    },
    {
      "cell_type": "code",
      "source": [
        "with open(\"file.txt\", \"r\") as file:\n",
        "    content = file.read()\n",
        "    print(content)"
      ],
      "metadata": {
        "id": "_USoNPmAyOhW"
      },
      "execution_count": null,
      "outputs": []
    },
    {
      "cell_type": "markdown",
      "source": [
        "21. Write a Python program that reads a file and prints the number of occurrences of a specific word?"
      ],
      "metadata": {
        "id": "00eoWvM_yRDW"
      }
    },
    {
      "cell_type": "code",
      "source": [
        "word_to_find = \"python\"\n",
        "count = 0\n",
        "\n",
        "with open(\"sample.txt\", \"r\") as file:\n",
        "    for line in file:\n",
        "        count += line.lower().count(word_to_find.lower())\n",
        "\n",
        "print(f\"The word '{word_to_find}' occurred {count} times.\")"
      ],
      "metadata": {
        "id": "STmlw6TZyXWS"
      },
      "execution_count": null,
      "outputs": []
    },
    {
      "cell_type": "markdown",
      "source": [
        "22. How can you check if a file is empty before attempting to read its contents?"
      ],
      "metadata": {
        "id": "aZg7MWDIycHL"
      }
    },
    {
      "cell_type": "code",
      "source": [
        "import os\n",
        "\n",
        "if os.path.getsize(\"sample.txt\") == 0:\n",
        "    print(\"File is empty.\")\n",
        "else:\n",
        "    with open(\"sample.txt\", \"r\") as file:\n",
        "        print(file.read())"
      ],
      "metadata": {
        "id": "9Lm5jXhUygBg"
      },
      "execution_count": null,
      "outputs": []
    },
    {
      "cell_type": "markdown",
      "source": [
        "23. Write a Python program that writes to a log file when an error occurs during file handling?"
      ],
      "metadata": {
        "id": "CXnSSAHOyioL"
      }
    },
    {
      "cell_type": "code",
      "source": [
        "import logging\n",
        "\n",
        "logging.basicConfig(filename=\"file_errors.log\", level=logging.ERROR)\n",
        "\n",
        "try:\n",
        "    with open(\"nonexistent.txt\", \"r\") as file:\n",
        "        data = file.read()\n",
        "except FileNotFoundError as e:\n",
        "    logging.error(\"Error reading file: %s\", e)"
      ],
      "metadata": {
        "id": "abB2fAgNym8a"
      },
      "execution_count": null,
      "outputs": []
    }
  ]
}